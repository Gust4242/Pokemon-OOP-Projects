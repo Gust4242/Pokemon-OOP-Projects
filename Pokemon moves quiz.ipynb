{
 "cells": [
  {
   "cell_type": "code",
   "execution_count": 1,
   "metadata": {},
   "outputs": [],
   "source": [
    "import numpy as np\n",
    "import pandas as pd\n",
    "import requests\n",
    "import random\n",
    "\n",
    "from bs4 import BeautifulSoup"
   ]
  },
  {
   "cell_type": "code",
   "execution_count": 2,
   "metadata": {},
   "outputs": [],
   "source": [
    "url = 'https://pokemondb.net/move/all'\n",
    "response = requests.get(url)\n",
    "html = response.content"
   ]
  },
  {
   "cell_type": "code",
   "execution_count": 3,
   "metadata": {},
   "outputs": [],
   "source": [
    "soup = BeautifulSoup(html, 'html.parser')\n",
    "table = soup.find_all('div', class_='resp-scroll')\n",
    "df = pd.read_html(str(table))[0]"
   ]
  },
  {
   "cell_type": "code",
   "execution_count": 4,
   "metadata": {},
   "outputs": [],
   "source": [
    "pd.set_option('display.max_colwidth', None)"
   ]
  },
  {
   "cell_type": "code",
   "execution_count": 5,
   "metadata": {},
   "outputs": [
    {
     "data": {
      "text/html": [
       "<div>\n",
       "<style scoped>\n",
       "    .dataframe tbody tr th:only-of-type {\n",
       "        vertical-align: middle;\n",
       "    }\n",
       "\n",
       "    .dataframe tbody tr th {\n",
       "        vertical-align: top;\n",
       "    }\n",
       "\n",
       "    .dataframe thead th {\n",
       "        text-align: right;\n",
       "    }\n",
       "</style>\n",
       "<table border=\"1\" class=\"dataframe\">\n",
       "  <thead>\n",
       "    <tr style=\"text-align: right;\">\n",
       "      <th></th>\n",
       "      <th>Name</th>\n",
       "      <th>Type</th>\n",
       "      <th>Power</th>\n",
       "      <th>Acc.</th>\n",
       "      <th>PP</th>\n",
       "      <th>Effect</th>\n",
       "      <th>Prob. (%)</th>\n",
       "    </tr>\n",
       "  </thead>\n",
       "  <tbody>\n",
       "    <tr>\n",
       "      <th>0</th>\n",
       "      <td>10,000,000 Volt Thunderbolt</td>\n",
       "      <td>Electric</td>\n",
       "      <td>195</td>\n",
       "      <td>—</td>\n",
       "      <td>1</td>\n",
       "      <td>Pikachu-exclusive Z-Move. High critical hit ratio.</td>\n",
       "      <td>—</td>\n",
       "    </tr>\n",
       "    <tr>\n",
       "      <th>1</th>\n",
       "      <td>Absorb</td>\n",
       "      <td>Grass</td>\n",
       "      <td>20</td>\n",
       "      <td>100</td>\n",
       "      <td>25</td>\n",
       "      <td>User recovers half the HP inflicted on opponent.</td>\n",
       "      <td>—</td>\n",
       "    </tr>\n",
       "    <tr>\n",
       "      <th>2</th>\n",
       "      <td>Accelerock</td>\n",
       "      <td>Rock</td>\n",
       "      <td>40</td>\n",
       "      <td>100</td>\n",
       "      <td>20</td>\n",
       "      <td>User attacks first.</td>\n",
       "      <td>—</td>\n",
       "    </tr>\n",
       "    <tr>\n",
       "      <th>3</th>\n",
       "      <td>Acid</td>\n",
       "      <td>Poison</td>\n",
       "      <td>40</td>\n",
       "      <td>100</td>\n",
       "      <td>30</td>\n",
       "      <td>May lower opponent's Special Defense.</td>\n",
       "      <td>10</td>\n",
       "    </tr>\n",
       "    <tr>\n",
       "      <th>4</th>\n",
       "      <td>Acid Armor</td>\n",
       "      <td>Poison</td>\n",
       "      <td>—</td>\n",
       "      <td>—</td>\n",
       "      <td>20</td>\n",
       "      <td>Sharply raises user's Defense.</td>\n",
       "      <td>—</td>\n",
       "    </tr>\n",
       "  </tbody>\n",
       "</table>\n",
       "</div>"
      ],
      "text/plain": [
       "                          Name      Type Power Acc.  PP  \\\n",
       "0  10,000,000 Volt Thunderbolt  Electric   195    —   1   \n",
       "1                       Absorb     Grass    20  100  25   \n",
       "2                   Accelerock      Rock    40  100  20   \n",
       "3                         Acid    Poison    40  100  30   \n",
       "4                   Acid Armor    Poison     —    —  20   \n",
       "\n",
       "                                               Effect Prob. (%)  \n",
       "0  Pikachu-exclusive Z-Move. High critical hit ratio.         —  \n",
       "1    User recovers half the HP inflicted on opponent.         —  \n",
       "2                                 User attacks first.         —  \n",
       "3               May lower opponent's Special Defense.        10  \n",
       "4                      Sharply raises user's Defense.         —  "
      ]
     },
     "execution_count": 5,
     "metadata": {},
     "output_type": "execute_result"
    }
   ],
   "source": [
    "df.drop('Cat.', axis=1, inplace=True)\n",
    "df.head()"
   ]
  },
  {
   "cell_type": "code",
   "execution_count": 6,
   "metadata": {},
   "outputs": [
    {
     "data": {
      "text/html": [
       "<div>\n",
       "<style scoped>\n",
       "    .dataframe tbody tr th:only-of-type {\n",
       "        vertical-align: middle;\n",
       "    }\n",
       "\n",
       "    .dataframe tbody tr th {\n",
       "        vertical-align: top;\n",
       "    }\n",
       "\n",
       "    .dataframe thead th {\n",
       "        text-align: right;\n",
       "    }\n",
       "</style>\n",
       "<table border=\"1\" class=\"dataframe\">\n",
       "  <thead>\n",
       "    <tr style=\"text-align: right;\">\n",
       "      <th></th>\n",
       "      <th>Name</th>\n",
       "      <th>Pokémon</th>\n",
       "      <th>Description</th>\n",
       "      <th>Gen.</th>\n",
       "    </tr>\n",
       "  </thead>\n",
       "  <tbody>\n",
       "    <tr>\n",
       "      <th>0</th>\n",
       "      <td>Adaptability</td>\n",
       "      <td>16</td>\n",
       "      <td>Powers up moves of the same type.</td>\n",
       "      <td>4</td>\n",
       "    </tr>\n",
       "    <tr>\n",
       "      <th>1</th>\n",
       "      <td>Aerilate</td>\n",
       "      <td>2</td>\n",
       "      <td>Turns Normal-type moves into Flying-type moves.</td>\n",
       "      <td>6</td>\n",
       "    </tr>\n",
       "    <tr>\n",
       "      <th>2</th>\n",
       "      <td>Aftermath</td>\n",
       "      <td>10</td>\n",
       "      <td>Damages the attacker landing the finishing hit.</td>\n",
       "      <td>4</td>\n",
       "    </tr>\n",
       "    <tr>\n",
       "      <th>3</th>\n",
       "      <td>Air Lock</td>\n",
       "      <td>1</td>\n",
       "      <td>Eliminates the effects of weather.</td>\n",
       "      <td>3</td>\n",
       "    </tr>\n",
       "    <tr>\n",
       "      <th>4</th>\n",
       "      <td>Analytic</td>\n",
       "      <td>12</td>\n",
       "      <td>Boosts move power when the Pokémon moves last.</td>\n",
       "      <td>5</td>\n",
       "    </tr>\n",
       "    <tr>\n",
       "      <th>...</th>\n",
       "      <td>...</td>\n",
       "      <td>...</td>\n",
       "      <td>...</td>\n",
       "      <td>...</td>\n",
       "    </tr>\n",
       "    <tr>\n",
       "      <th>292</th>\n",
       "      <td>Wind Rider</td>\n",
       "      <td>2</td>\n",
       "      <td>Takes no damage from wind moves, and boosts Attack if hit by one.</td>\n",
       "      <td>9</td>\n",
       "    </tr>\n",
       "    <tr>\n",
       "      <th>293</th>\n",
       "      <td>Wonder Guard</td>\n",
       "      <td>1</td>\n",
       "      <td>Only supereffective moves will hit.</td>\n",
       "      <td>3</td>\n",
       "    </tr>\n",
       "    <tr>\n",
       "      <th>294</th>\n",
       "      <td>Wonder Skin</td>\n",
       "      <td>5</td>\n",
       "      <td>Makes status-changing moves more likely to miss.</td>\n",
       "      <td>5</td>\n",
       "    </tr>\n",
       "    <tr>\n",
       "      <th>295</th>\n",
       "      <td>Zen Mode</td>\n",
       "      <td>4</td>\n",
       "      <td>Changes form when HP drops below half.</td>\n",
       "      <td>5</td>\n",
       "    </tr>\n",
       "    <tr>\n",
       "      <th>296</th>\n",
       "      <td>Zero to Hero</td>\n",
       "      <td>2</td>\n",
       "      <td>Transforms into its Hero Form when switching out.</td>\n",
       "      <td>9</td>\n",
       "    </tr>\n",
       "  </tbody>\n",
       "</table>\n",
       "<p>297 rows × 4 columns</p>\n",
       "</div>"
      ],
      "text/plain": [
       "             Name  Pokémon  \\\n",
       "0    Adaptability       16   \n",
       "1        Aerilate        2   \n",
       "2       Aftermath       10   \n",
       "3        Air Lock        1   \n",
       "4        Analytic       12   \n",
       "..            ...      ...   \n",
       "292    Wind Rider        2   \n",
       "293  Wonder Guard        1   \n",
       "294   Wonder Skin        5   \n",
       "295      Zen Mode        4   \n",
       "296  Zero to Hero        2   \n",
       "\n",
       "                                                           Description  Gen.  \n",
       "0                                    Powers up moves of the same type.     4  \n",
       "1                      Turns Normal-type moves into Flying-type moves.     6  \n",
       "2                      Damages the attacker landing the finishing hit.     4  \n",
       "3                                   Eliminates the effects of weather.     3  \n",
       "4                       Boosts move power when the Pokémon moves last.     5  \n",
       "..                                                                 ...   ...  \n",
       "292  Takes no damage from wind moves, and boosts Attack if hit by one.     9  \n",
       "293                                Only supereffective moves will hit.     3  \n",
       "294                   Makes status-changing moves more likely to miss.     5  \n",
       "295                             Changes form when HP drops below half.     5  \n",
       "296                  Transforms into its Hero Form when switching out.     9  \n",
       "\n",
       "[297 rows x 4 columns]"
      ]
     },
     "execution_count": 6,
     "metadata": {},
     "output_type": "execute_result"
    }
   ],
   "source": [
    "url_2 = 'https://pokemondb.net/ability'\n",
    "response_2 = requests.get(url_2)\n",
    "html_2 = response_2.content\n",
    "\n",
    "soup_2 = BeautifulSoup(html_2, 'html.parser')\n",
    "ab_table = soup_2.find_all('div', class_='resp-scroll')\n",
    "ab = pd.read_html(str(ab_table))[0]\n",
    "ab"
   ]
  },
  {
   "cell_type": "code",
   "execution_count": 7,
   "metadata": {},
   "outputs": [],
   "source": [
    "pd.set_option('display.max_columns', None)"
   ]
  },
  {
   "cell_type": "code",
   "execution_count": 8,
   "metadata": {},
   "outputs": [],
   "source": [
    "class PokemonGame:\n",
    "    def __init__(self, df):\n",
    "        self.df = df.copy()\n",
    "        self.df['Name'] = self.df['Name'].str.upper()\n",
    "        print('Bem vindo ao Joguinho de Pokémon')\n",
    "\n",
    "    def random_move(self):\n",
    "        random_effect = random.randint(0, len(self.df) - 1) \n",
    "        return pd.DataFrame(self.df[self.df.index == random_effect])\n",
    "\n",
    "    def play(self):\n",
    "        while True:\n",
    "            random_move_gabarito = self.random_move()\n",
    "            g = random_move_gabarito.copy()\n",
    "            random_move = pd.DataFrame(random_move_gabarito.drop('Name', axis=1))\n",
    "            display(random_move)\n",
    "            user_input = input('Give your best shot: ').upper()\n",
    "            if user_input in g['Name'].values:\n",
    "                print(user_input)\n",
    "                print('Acertou miseravi')\n",
    "                print('-'*50)\n",
    "                display(g)\n",
    "                print('-'*50)\n",
    "            else:\n",
    "                print('Errou, seu lixo!')\n",
    "                print('Seu chute miserável: ', user_input)\n",
    "                display(g)\n",
    "                break\n",
    "\n",
    "#class interface:\n",
    "    "
   ]
  },
  {
   "cell_type": "code",
   "execution_count": 9,
   "metadata": {},
   "outputs": [],
   "source": [
    "import tkinter as tk"
   ]
  },
  {
   "cell_type": "code",
   "execution_count": null,
   "metadata": {},
   "outputs": [],
   "source": []
  },
  {
   "cell_type": "code",
   "execution_count": 23,
   "metadata": {},
   "outputs": [
    {
     "name": "stdout",
     "output_type": "stream",
     "text": [
      "Bem vindo ao Joguinho de Pokémon\n"
     ]
    },
    {
     "data": {
      "text/html": [
       "<div>\n",
       "<style scoped>\n",
       "    .dataframe tbody tr th:only-of-type {\n",
       "        vertical-align: middle;\n",
       "    }\n",
       "\n",
       "    .dataframe tbody tr th {\n",
       "        vertical-align: top;\n",
       "    }\n",
       "\n",
       "    .dataframe thead th {\n",
       "        text-align: right;\n",
       "    }\n",
       "</style>\n",
       "<table border=\"1\" class=\"dataframe\">\n",
       "  <thead>\n",
       "    <tr style=\"text-align: right;\">\n",
       "      <th></th>\n",
       "      <th>Pokémon</th>\n",
       "      <th>Description</th>\n",
       "      <th>Gen.</th>\n",
       "    </tr>\n",
       "  </thead>\n",
       "  <tbody>\n",
       "    <tr>\n",
       "      <th>67</th>\n",
       "      <td>27</td>\n",
       "      <td>It powers up Fire-type moves if it's hit by one.</td>\n",
       "      <td>3</td>\n",
       "    </tr>\n",
       "  </tbody>\n",
       "</table>\n",
       "</div>"
      ],
      "text/plain": [
       "    Pokémon                                       Description  Gen.\n",
       "67       27  It powers up Fire-type moves if it's hit by one.     3"
      ]
     },
     "metadata": {},
     "output_type": "display_data"
    },
    {
     "name": "stdout",
     "output_type": "stream",
     "text": [
      "FLASH FIRE\n",
      "Acertou miseravi\n",
      "--------------------------------------------------\n"
     ]
    },
    {
     "data": {
      "text/html": [
       "<div>\n",
       "<style scoped>\n",
       "    .dataframe tbody tr th:only-of-type {\n",
       "        vertical-align: middle;\n",
       "    }\n",
       "\n",
       "    .dataframe tbody tr th {\n",
       "        vertical-align: top;\n",
       "    }\n",
       "\n",
       "    .dataframe thead th {\n",
       "        text-align: right;\n",
       "    }\n",
       "</style>\n",
       "<table border=\"1\" class=\"dataframe\">\n",
       "  <thead>\n",
       "    <tr style=\"text-align: right;\">\n",
       "      <th></th>\n",
       "      <th>Name</th>\n",
       "      <th>Pokémon</th>\n",
       "      <th>Description</th>\n",
       "      <th>Gen.</th>\n",
       "    </tr>\n",
       "  </thead>\n",
       "  <tbody>\n",
       "    <tr>\n",
       "      <th>67</th>\n",
       "      <td>FLASH FIRE</td>\n",
       "      <td>27</td>\n",
       "      <td>It powers up Fire-type moves if it's hit by one.</td>\n",
       "      <td>3</td>\n",
       "    </tr>\n",
       "  </tbody>\n",
       "</table>\n",
       "</div>"
      ],
      "text/plain": [
       "          Name  Pokémon                                       Description  \\\n",
       "67  FLASH FIRE       27  It powers up Fire-type moves if it's hit by one.   \n",
       "\n",
       "    Gen.  \n",
       "67     3  "
      ]
     },
     "metadata": {},
     "output_type": "display_data"
    },
    {
     "name": "stdout",
     "output_type": "stream",
     "text": [
      "--------------------------------------------------\n"
     ]
    },
    {
     "data": {
      "text/html": [
       "<div>\n",
       "<style scoped>\n",
       "    .dataframe tbody tr th:only-of-type {\n",
       "        vertical-align: middle;\n",
       "    }\n",
       "\n",
       "    .dataframe tbody tr th {\n",
       "        vertical-align: top;\n",
       "    }\n",
       "\n",
       "    .dataframe thead th {\n",
       "        text-align: right;\n",
       "    }\n",
       "</style>\n",
       "<table border=\"1\" class=\"dataframe\">\n",
       "  <thead>\n",
       "    <tr style=\"text-align: right;\">\n",
       "      <th></th>\n",
       "      <th>Pokémon</th>\n",
       "      <th>Description</th>\n",
       "      <th>Gen.</th>\n",
       "    </tr>\n",
       "  </thead>\n",
       "  <tbody>\n",
       "    <tr>\n",
       "      <th>194</th>\n",
       "      <td>18</td>\n",
       "      <td>Deals more damage to a Pokémon of same gender.</td>\n",
       "      <td>4</td>\n",
       "    </tr>\n",
       "  </tbody>\n",
       "</table>\n",
       "</div>"
      ],
      "text/plain": [
       "     Pokémon                                     Description  Gen.\n",
       "194       18  Deals more damage to a Pokémon of same gender.     4"
      ]
     },
     "metadata": {},
     "output_type": "display_data"
    },
    {
     "name": "stdout",
     "output_type": "stream",
     "text": [
      "RIVALRY\n",
      "Acertou miseravi\n",
      "--------------------------------------------------\n"
     ]
    },
    {
     "data": {
      "text/html": [
       "<div>\n",
       "<style scoped>\n",
       "    .dataframe tbody tr th:only-of-type {\n",
       "        vertical-align: middle;\n",
       "    }\n",
       "\n",
       "    .dataframe tbody tr th {\n",
       "        vertical-align: top;\n",
       "    }\n",
       "\n",
       "    .dataframe thead th {\n",
       "        text-align: right;\n",
       "    }\n",
       "</style>\n",
       "<table border=\"1\" class=\"dataframe\">\n",
       "  <thead>\n",
       "    <tr style=\"text-align: right;\">\n",
       "      <th></th>\n",
       "      <th>Name</th>\n",
       "      <th>Pokémon</th>\n",
       "      <th>Description</th>\n",
       "      <th>Gen.</th>\n",
       "    </tr>\n",
       "  </thead>\n",
       "  <tbody>\n",
       "    <tr>\n",
       "      <th>194</th>\n",
       "      <td>RIVALRY</td>\n",
       "      <td>18</td>\n",
       "      <td>Deals more damage to a Pokémon of same gender.</td>\n",
       "      <td>4</td>\n",
       "    </tr>\n",
       "  </tbody>\n",
       "</table>\n",
       "</div>"
      ],
      "text/plain": [
       "        Name  Pokémon                                     Description  Gen.\n",
       "194  RIVALRY       18  Deals more damage to a Pokémon of same gender.     4"
      ]
     },
     "metadata": {},
     "output_type": "display_data"
    },
    {
     "name": "stdout",
     "output_type": "stream",
     "text": [
      "--------------------------------------------------\n"
     ]
    },
    {
     "data": {
      "text/html": [
       "<div>\n",
       "<style scoped>\n",
       "    .dataframe tbody tr th:only-of-type {\n",
       "        vertical-align: middle;\n",
       "    }\n",
       "\n",
       "    .dataframe tbody tr th {\n",
       "        vertical-align: top;\n",
       "    }\n",
       "\n",
       "    .dataframe thead th {\n",
       "        text-align: right;\n",
       "    }\n",
       "</style>\n",
       "<table border=\"1\" class=\"dataframe\">\n",
       "  <thead>\n",
       "    <tr style=\"text-align: right;\">\n",
       "      <th></th>\n",
       "      <th>Pokémon</th>\n",
       "      <th>Description</th>\n",
       "      <th>Gen.</th>\n",
       "    </tr>\n",
       "  </thead>\n",
       "  <tbody>\n",
       "    <tr>\n",
       "      <th>215</th>\n",
       "      <td>35</td>\n",
       "      <td>Removes added effects to increase move damage.</td>\n",
       "      <td>5</td>\n",
       "    </tr>\n",
       "  </tbody>\n",
       "</table>\n",
       "</div>"
      ],
      "text/plain": [
       "     Pokémon                                     Description  Gen.\n",
       "215       35  Removes added effects to increase move damage.     5"
      ]
     },
     "metadata": {},
     "output_type": "display_data"
    },
    {
     "name": "stdout",
     "output_type": "stream",
     "text": [
      "SHEER FORCE\n",
      "Acertou miseravi\n",
      "--------------------------------------------------\n"
     ]
    },
    {
     "data": {
      "text/html": [
       "<div>\n",
       "<style scoped>\n",
       "    .dataframe tbody tr th:only-of-type {\n",
       "        vertical-align: middle;\n",
       "    }\n",
       "\n",
       "    .dataframe tbody tr th {\n",
       "        vertical-align: top;\n",
       "    }\n",
       "\n",
       "    .dataframe thead th {\n",
       "        text-align: right;\n",
       "    }\n",
       "</style>\n",
       "<table border=\"1\" class=\"dataframe\">\n",
       "  <thead>\n",
       "    <tr style=\"text-align: right;\">\n",
       "      <th></th>\n",
       "      <th>Name</th>\n",
       "      <th>Pokémon</th>\n",
       "      <th>Description</th>\n",
       "      <th>Gen.</th>\n",
       "    </tr>\n",
       "  </thead>\n",
       "  <tbody>\n",
       "    <tr>\n",
       "      <th>215</th>\n",
       "      <td>SHEER FORCE</td>\n",
       "      <td>35</td>\n",
       "      <td>Removes added effects to increase move damage.</td>\n",
       "      <td>5</td>\n",
       "    </tr>\n",
       "  </tbody>\n",
       "</table>\n",
       "</div>"
      ],
      "text/plain": [
       "            Name  Pokémon                                     Description  \\\n",
       "215  SHEER FORCE       35  Removes added effects to increase move damage.   \n",
       "\n",
       "     Gen.  \n",
       "215     5  "
      ]
     },
     "metadata": {},
     "output_type": "display_data"
    },
    {
     "name": "stdout",
     "output_type": "stream",
     "text": [
      "--------------------------------------------------\n"
     ]
    },
    {
     "data": {
      "text/html": [
       "<div>\n",
       "<style scoped>\n",
       "    .dataframe tbody tr th:only-of-type {\n",
       "        vertical-align: middle;\n",
       "    }\n",
       "\n",
       "    .dataframe tbody tr th {\n",
       "        vertical-align: top;\n",
       "    }\n",
       "\n",
       "    .dataframe thead th {\n",
       "        text-align: right;\n",
       "    }\n",
       "</style>\n",
       "<table border=\"1\" class=\"dataframe\">\n",
       "  <thead>\n",
       "    <tr style=\"text-align: right;\">\n",
       "      <th></th>\n",
       "      <th>Pokémon</th>\n",
       "      <th>Description</th>\n",
       "      <th>Gen.</th>\n",
       "    </tr>\n",
       "  </thead>\n",
       "  <tbody>\n",
       "    <tr>\n",
       "      <th>186</th>\n",
       "      <td>11</td>\n",
       "      <td>Boosts Speed if there is a status problem.</td>\n",
       "      <td>4</td>\n",
       "    </tr>\n",
       "  </tbody>\n",
       "</table>\n",
       "</div>"
      ],
      "text/plain": [
       "     Pokémon                                 Description  Gen.\n",
       "186       11  Boosts Speed if there is a status problem.     4"
      ]
     },
     "metadata": {},
     "output_type": "display_data"
    },
    {
     "name": "stdout",
     "output_type": "stream",
     "text": [
      "Errou, seu lixo!\n",
      "Seu chute miserável:  D\n"
     ]
    },
    {
     "data": {
      "text/html": [
       "<div>\n",
       "<style scoped>\n",
       "    .dataframe tbody tr th:only-of-type {\n",
       "        vertical-align: middle;\n",
       "    }\n",
       "\n",
       "    .dataframe tbody tr th {\n",
       "        vertical-align: top;\n",
       "    }\n",
       "\n",
       "    .dataframe thead th {\n",
       "        text-align: right;\n",
       "    }\n",
       "</style>\n",
       "<table border=\"1\" class=\"dataframe\">\n",
       "  <thead>\n",
       "    <tr style=\"text-align: right;\">\n",
       "      <th></th>\n",
       "      <th>Name</th>\n",
       "      <th>Pokémon</th>\n",
       "      <th>Description</th>\n",
       "      <th>Gen.</th>\n",
       "    </tr>\n",
       "  </thead>\n",
       "  <tbody>\n",
       "    <tr>\n",
       "      <th>186</th>\n",
       "      <td>QUICK FEET</td>\n",
       "      <td>11</td>\n",
       "      <td>Boosts Speed if there is a status problem.</td>\n",
       "      <td>4</td>\n",
       "    </tr>\n",
       "  </tbody>\n",
       "</table>\n",
       "</div>"
      ],
      "text/plain": [
       "           Name  Pokémon                                 Description  Gen.\n",
       "186  QUICK FEET       11  Boosts Speed if there is a status problem.     4"
      ]
     },
     "metadata": {},
     "output_type": "display_data"
    }
   ],
   "source": [
    "pk = PokemonGame(ab)\n",
    "pk.play()"
   ]
  }
 ],
 "metadata": {
  "kernelspec": {
   "display_name": "Python 3",
   "language": "python",
   "name": "python3"
  },
  "language_info": {
   "codemirror_mode": {
    "name": "ipython",
    "version": 3
   },
   "file_extension": ".py",
   "mimetype": "text/x-python",
   "name": "python",
   "nbconvert_exporter": "python",
   "pygments_lexer": "ipython3",
   "version": "3.10.7"
  },
  "orig_nbformat": 4
 },
 "nbformat": 4,
 "nbformat_minor": 2
}
